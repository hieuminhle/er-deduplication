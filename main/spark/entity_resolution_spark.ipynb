{
 "cells": [
  {
   "cell_type": "code",
   "execution_count": 1,
   "metadata": {},
   "outputs": [],
   "source": [
    "import hash_blocking_spark as hash\n",
    "import sys\n",
    "sys.path.insert(1, '/Users/aliaslan/Documents/GitHub/DIA-ER/Pipeline')\n",
    "import blocking_hash as h\n",
    "\n"
   ]
  },
  {
   "cell_type": "code",
   "execution_count": 2,
   "metadata": {},
   "outputs": [],
   "source": [
    "import pandas as pd\n",
    "dblp_csv = '../CSV-files/dblp_stem.csv'\n",
    "dblp = pd.read_csv(dblp_csv)\n",
    "\n",
    "acm_csv = '../CSV-files/acm_stem.csv'\n",
    "acm = pd.read_csv(acm_csv)\n"
   ]
  },
  {
   "cell_type": "code",
   "execution_count": 15,
   "metadata": {},
   "outputs": [
    {
     "name": "stderr",
     "output_type": "stream",
     "text": [
      "                                                                                \r"
     ]
    },
    {
     "name": "stdout",
     "output_type": "stream",
     "text": [
      "2813\n",
      "2813\n"
     ]
    }
   ],
   "source": [
    "selected_columns = ['author_names', 'paper_title']\n",
    "a = hash.initial_hash_parallel(acm_csv, selected_columns)\n",
    "b = h.initial_hash(acm, selected_columns)\n",
    "print(len(a))\n",
    "print(len(b))\n"
   ]
  },
  {
   "cell_type": "code",
   "execution_count": 17,
   "metadata": {},
   "outputs": [
    {
     "name": "stdout",
     "output_type": "stream",
     "text": [
      "True\n"
     ]
    }
   ],
   "source": [
    "import collections\n",
    "\n",
    "# hier zum vergleichen, weil die Reihenfolge anders ist \n",
    "def are_ordered_dictionaries_equal(dict1, dict2):\n",
    "    for key in dict1:\n",
    "        if key not in dict2:\n",
    "            return False\n",
    "\n",
    "        if dict1[key] != dict2[key]:\n",
    "            return False\n",
    "\n",
    "        for key in dict2:\n",
    "            if key not in dict1:\n",
    "                return False\n",
    "\n",
    "    return True\n",
    "\n",
    "a = collections.OrderedDict()\n",
    "b = collections.OrderedDict()\n",
    "\n",
    "ab = are_ordered_dictionaries_equal(a, b)\n",
    "print(ab)"
   ]
  }
 ],
 "metadata": {
  "kernelspec": {
   "display_name": "Python 3",
   "language": "python",
   "name": "python3"
  },
  "language_info": {
   "codemirror_mode": {
    "name": "ipython",
    "version": 3
   },
   "file_extension": ".py",
   "mimetype": "text/x-python",
   "name": "python",
   "nbconvert_exporter": "python",
   "pygments_lexer": "ipython3",
   "version": "3.10.9"
  },
  "orig_nbformat": 4
 },
 "nbformat": 4,
 "nbformat_minor": 2
}
